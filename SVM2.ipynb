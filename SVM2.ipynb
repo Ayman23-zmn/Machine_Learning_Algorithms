{
  "nbformat": 4,
  "nbformat_minor": 0,
  "metadata": {
    "colab": {
      "name": "SVM2.ipynb",
      "provenance": []
    },
    "kernelspec": {
      "name": "python3",
      "display_name": "Python 3"
    }
  },
  "cells": [
    {
      "cell_type": "code",
      "metadata": {
        "colab": {
          "base_uri": "https://localhost:8080/"
        },
        "id": "870hkAR25EOd",
        "outputId": "05617fd0-8e79-448a-aebb-3a7bde2ed73b"
      },
      "source": [
        "from sklearn import svm\r\n",
        "from sklearn.model_selection import train_test_split\r\n",
        "from sklearn.metrics import confusion_matrix\r\n",
        "from sklearn.metrics import accuracy_score\r\n",
        "from sklearn import datasets\r\n",
        "\r\n",
        "#\r\n",
        "#\tImportant parameters for SVC: gamma and C\r\n",
        "#\t\tgamma -> defines how far the influence of a single training example reaches\r\n",
        "#\t\t\t\t\tLow value: influence reaches far      High value: influence reaches close\r\n",
        "#\r\n",
        "#\t\tC -> trades off hyperplane surface simplicity + training examples missclassifications\r\n",
        "#\t\t\t\t\tLow value: simple/smooth hyperplane surface \r\n",
        "#\t\t\t\t\tHigh value: all training examples classified correctly but complex surface \r\n",
        "\r\n",
        "dataset = datasets.load_iris()\r\n",
        "\r\n",
        "#print(dataset)\r\n",
        "\r\n",
        "features = dataset.data\r\n",
        "targetVariables = dataset.target\r\n",
        "\r\n",
        "featureTrain, featureTest, targetTrain, targetTest = train_test_split(features, targetVariables, test_size=0.3)\r\n",
        "\r\n",
        "#model = svm.SVC(gamma=0.001, C=100)\r\n",
        "model = svm.SVC()\r\n",
        "fittedModel = model.fit(featureTrain, targetTrain)\r\n",
        "predictions = fittedModel.predict(featureTest)\r\n",
        "\r\n",
        "print(confusion_matrix(targetTest, predictions))\r\n",
        "print(accuracy_score(targetTest, predictions))"
      ],
      "execution_count": 4,
      "outputs": [
        {
          "output_type": "stream",
          "text": [
            "[[14  0  0]\n",
            " [ 0 13  0]\n",
            " [ 0  1 17]]\n",
            "0.9777777777777777\n"
          ],
          "name": "stdout"
        }
      ]
    }
  ]
}