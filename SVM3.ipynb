{
  "nbformat": 4,
  "nbformat_minor": 0,
  "metadata": {
    "colab": {
      "name": "SVM3.ipynb",
      "provenance": []
    },
    "kernelspec": {
      "name": "python3",
      "display_name": "Python 3"
    }
  },
  "cells": [
    {
      "cell_type": "code",
      "metadata": {
        "colab": {
          "base_uri": "https://localhost:8080/"
        },
        "id": "dmdkfDoffjwH",
        "outputId": "4013c3ae-27ae-426a-8154-300e6fe891c9"
      },
      "source": [
        "\r\n",
        "from sklearn import svm\r\n",
        "from sklearn.model_selection import train_test_split\r\n",
        "from sklearn.metrics import confusion_matrix\r\n",
        "from sklearn.metrics import accuracy_score\r\n",
        "from sklearn import datasets\r\n",
        "from sklearn.model_selection import GridSearchCV\r\n",
        "\r\n",
        "iris_data= datasets.load_iris()\r\n",
        "\r\n",
        "features= iris_data.data\r\n",
        "target= iris_data.target\r\n",
        "\r\n",
        "feature_train, feature_test, target_train, target_test= train_test_split(features, target, test_size=0.3)\r\n",
        "\r\n",
        "model= svm.SVC()\r\n",
        "\r\n",
        "param_grid = {'C': [0.1, 1, 5, 10, 20, 30, 40, 50, 60, 70, 100, 200],\r\n",
        "              'gamma': [1, 0.1, 0.01, 0.001],\r\n",
        "              'kernel': ['rbf', 'poly','sigmoid']}\r\n",
        "\r\n",
        "grid= GridSearchCV(model, param_grid, refit= True)\r\n",
        "grid.fit(feature_train, target_train)\r\n",
        "\r\n",
        "print(grid.best_estimator_)\r\n",
        "grid_predictions= grid.predict(feature_test)\r\n",
        "print(confusion_matrix(target_test, grid_predictions))\r\n",
        "print(accuracy_score(target_test, grid_predictions ))\r\n",
        "\r\n"
      ],
      "execution_count": 4,
      "outputs": [
        {
          "output_type": "stream",
          "text": [
            "SVC(C=20, break_ties=False, cache_size=200, class_weight=None, coef0=0.0,\n",
            "    decision_function_shape='ovr', degree=3, gamma=0.01, kernel='rbf',\n",
            "    max_iter=-1, probability=False, random_state=None, shrinking=True,\n",
            "    tol=0.001, verbose=False)\n",
            "[[16  0  0]\n",
            " [ 0 15  1]\n",
            " [ 0  0 13]]\n",
            "0.9777777777777777\n"
          ],
          "name": "stdout"
        }
      ]
    }
  ]
}