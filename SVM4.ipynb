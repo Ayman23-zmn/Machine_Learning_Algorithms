{
  "nbformat": 4,
  "nbformat_minor": 0,
  "metadata": {
    "colab": {
      "name": "SVM4.ipynb",
      "provenance": []
    },
    "kernelspec": {
      "name": "python3",
      "display_name": "Python 3"
    }
  },
  "cells": [
    {
      "cell_type": "code",
      "metadata": {
        "colab": {
          "base_uri": "https://localhost:8080/",
          "height": 486
        },
        "id": "xekHDkLMthk6",
        "outputId": "34e40968-03c2-46f9-f0ab-2217d1d8e6e7"
      },
      "source": [
        "import matplotlib.pyplot as plt\r\n",
        "# Import datasets, classifiers and performance metrics\r\n",
        "from sklearn import datasets, svm, metrics\r\n",
        "from sklearn.metrics import accuracy_score\r\n",
        "\r\n",
        "# The digits dataset\r\n",
        "digits = datasets.load_digits()\r\n",
        "\r\n",
        "#print(\"Digits\\n\", digits)\r\n",
        "\r\n",
        "images_and_labels = list(zip(digits.images, digits.target))\r\n",
        "\r\n",
        "# To see some specific number of the images and the respective target.(in this case only 2 rows and 3 columns i.e. 6items)\r\n",
        "#for index, (image, label) in enumerate(images_and_labels[:6]):\r\n",
        "#    plt.subplot(2, 3, index + 1)\r\n",
        "#    plt.imshow(image, cmap=plt.cm.gray_r, interpolation='nearest')\r\n",
        "#    plt.title('Target: %i' % label)\r\n",
        "\r\n",
        "# To apply a classifier on this data, we need to flatten the image, to\r\n",
        "# turn the data in a (samples, feature) matrix:\r\n",
        "n_samples = len(digits.images)\r\n",
        "data = digits.images.reshape((n_samples, -1))\r\n",
        "#print(\"Data\\n\",data)\r\n",
        "\r\n",
        "# Create a classifier: a support vector classifier\r\n",
        "classifier = svm.SVC(gamma=0.001)\r\n",
        "\r\n",
        "# We learn the digits on the first half of the digits\r\n",
        "trainTestSplit = int(n_samples*0.75)\r\n",
        "classifier.fit(data[:trainTestSplit], digits.target[:trainTestSplit])\r\n",
        "\r\n",
        "# Now predict the value of the digit on the second half:\r\n",
        "expected = digits.target[trainTestSplit:]\r\n",
        "predicted = classifier.predict(data[trainTestSplit:])\r\n",
        "\r\n",
        "#print(\"Classification report for classifier %s:\\n%s\\n\"\r\n",
        "#% (classifier, metrics.classification_report(expected, predicted)))\r\n",
        "print(\"Confusion matrix:\\n%s\" % metrics.confusion_matrix(expected, predicted))\r\n",
        "print(accuracy_score(expected, predicted))\r\n",
        "\r\n",
        "\r\n",
        "# let's test on the last few images\r\n",
        "plt.imshow(digits.images[-10], cmap=plt.cm.gray_r, interpolation='nearest')\r\n",
        "print(\"Prediction for test image: \", classifier.predict(data[-10].reshape(1,-1)))\r\n",
        "\r\n",
        "plt.show()\r\n"
      ],
      "execution_count": 3,
      "outputs": [
        {
          "output_type": "stream",
          "text": [
            "Confusion matrix:\n",
            "[[42  0  0  0  1  0  0  0  0  0]\n",
            " [ 0 46  0  0  0  0  0  0  0  0]\n",
            " [ 0  0 43  0  0  0  0  0  0  0]\n",
            " [ 0  0  0 40  0  2  0  1  4  0]\n",
            " [ 0  0  0  0 45  0  0  0  1  2]\n",
            " [ 0  0  0  0  0 44  1  0  0  0]\n",
            " [ 0  0  0  0  0  0 47  0  0  0]\n",
            " [ 0  0  0  0  0  0  0 45  0  0]\n",
            " [ 0  1  0  0  0  0  0  0 40  0]\n",
            " [ 0  0  0  1  0  1  0  0  0 43]]\n",
            "0.9666666666666667\n",
            "Prediction for test image:  [5]\n"
          ],
          "name": "stdout"
        },
        {
          "output_type": "display_data",
          "data": {
            "image/png": "[encoded data removed]",
            "text/plain": [
              "<Figure size 432x288 with 1 Axes>"
            ]
          },
          "metadata": {
            "tags": [],
            "needs_background": "light"
          }
        }
      ]
    }
  ]
}