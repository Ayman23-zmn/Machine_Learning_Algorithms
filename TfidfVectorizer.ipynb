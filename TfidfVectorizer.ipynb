{
  "nbformat": 4,
  "nbformat_minor": 0,
  "metadata": {
    "colab": {
      "name": "TfidfVectorizer.ipynb",
      "provenance": []
    },
    "kernelspec": {
      "name": "python3",
      "display_name": "Python 3"
    }
  },
  "cells": [
    {
      "cell_type": "code",
      "metadata": {
        "colab": {
          "base_uri": "https://localhost:8080/"
        },
        "id": "R2iYEOQNaLRt",
        "outputId": "422edcfe-5cf1-4b20-ab22-473125cefdcf"
      },
      "source": [
        "\r\n",
        "from sklearn.feature_extraction.text import TfidfVectorizer\r\n",
        "\r\n",
        "vectorizer=TfidfVectorizer()\r\n",
        "\r\n",
        "tfidf= vectorizer.fit_transform([\"I like machine learning and clustering algorithms\",\r\n",
        "                                 \"Apples, oranges and any kind of fruits are healthy\",\r\n",
        "                                 \"Is it feasible with machine learning algorithms?\",\r\n",
        "                                 \" My family is happy becuase of the healthy fruits \" \r\n",
        "                                ])\r\n",
        "\r\n",
        "print((tfidf*tfidf.T).A) #similarity matrix"
      ],
      "execution_count": 8,
      "outputs": [
        {
          "output_type": "stream",
          "text": [
            "[[1.         0.10725626 0.37586942 0.        ]\n",
            " [0.10725626 1.         0.         0.24908972]\n",
            " [0.37586942 0.         1.         0.09699015]\n",
            " [0.         0.24908972 0.09699015 1.        ]]\n"
          ],
          "name": "stdout"
        }
      ]
    }
  ]
}