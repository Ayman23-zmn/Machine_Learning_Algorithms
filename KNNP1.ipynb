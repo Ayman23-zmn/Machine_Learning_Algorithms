{
  "nbformat": 4,
  "nbformat_minor": 0,
  "metadata": {
    "colab": {
      "name": "KNNP1.ipynb",
      "provenance": [],
      "collapsed_sections": []
    },
    "kernelspec": {
      "name": "python3",
      "display_name": "Python 3"
    }
  },
  "cells": [
    {
      "cell_type": "code",
      "metadata": {
        "colab": {
          "base_uri": "https://localhost:8080/",
          "height": 286
        },
        "id": "5a58X3tIS1Wm",
        "outputId": "df112b8d-fcd2-447f-c559-65ad68b62fdd"
      },
      "source": [
        "import numpy as np\r\n",
        "from matplotlib import pyplot as plt\r\n",
        "from sklearn.neighbors import KNeighborsClassifier\r\n",
        "\r\n",
        "xBlue = np.array([0.3,0.5,1,1.4,1.7,2])\r\n",
        "yBlue = np.array([1,4.5,2.3,1.9,8.9,4.1])\r\n",
        "\r\n",
        "xRed = np.array([3.3,3.5,4,4.4,5.7,6])\r\n",
        "yRed = np.array([7,1.5,6.3,1.9,2.9,7.1])\r\n",
        "\r\n",
        "X = np.array([[0.3,1],[0.5,4.5],[1,2.3],[1.4,1.9],[1.7,8.9],[2,4.1],[3.3,7],[3.5,1.5],[4,6.3],[4.4,1.9],[5.7,2.9],[6,7.1]])\r\n",
        "y = np.array([0,0,0,0,0,0,1,1,1,1,1,1]) # 0: blue class, 1: red class\r\n",
        "\r\n",
        "plt.plot(xBlue, yBlue, 'ro', color = 'blue')\r\n",
        "plt.plot(xRed, yRed, 'ro', color='red')\r\n",
        "plt.plot(1,5,'ro',color='green', markersize=15)\r\n",
        "plt.axis([-0.5,10,-0.5,10])\r\n",
        "\r\n",
        "classifier = KNeighborsClassifier(n_neighbors=3) # this is the k value\r\n",
        "classifier.fit(X,y)\r\n",
        "\r\n",
        "pred = classifier.predict(np.array([[1,5]]))\r\n",
        "print(pred)\r\n",
        "\r\n",
        "plt.show()\r\n"
      ],
      "execution_count": 6,
      "outputs": [
        {
          "output_type": "stream",
          "text": [
            "[0]\n"
          ],
          "name": "stdout"
        },
        {
          "output_type": "display_data",
          "data": {
            "image/png": "[encoded data removed]",
            "text/plain": [
              "<Figure size 432x288 with 1 Axes>"
            ]
          },
          "metadata": {
            "tags": [],
            "needs_background": "light"
          }
        }
      ]
    }
  ]
}