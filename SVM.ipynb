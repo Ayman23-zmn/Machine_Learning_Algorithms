{
  "nbformat": 4,
  "nbformat_minor": 0,
  "metadata": {
    "colab": {
      "name": "SVM.ipynb",
      "provenance": []
    },
    "kernelspec": {
      "name": "python3",
      "display_name": "Python 3"
    }
  },
  "cells": [
    {
      "cell_type": "code",
      "metadata": {
        "colab": {
          "base_uri": "https://localhost:8080/",
          "height": 340
        },
        "id": "fpMe8geqNBpb",
        "outputId": "24e7d99f-eea9-4c36-c2d0-2daeeb5971ae"
      },
      "source": [
        "import numpy as np\r\n",
        "from matplotlib import pyplot as plt\r\n",
        "from sklearn import svm\r\n",
        "from mlxtend.plotting import plot_decision_regions\r\n",
        "\r\n",
        "xBlue = np.array([0.3,0.5,1,1.4,1.7,2])\r\n",
        "yBlue = np.array([1,4.5,2.3,1.9,8.9,4.1])\r\n",
        "\r\n",
        "xRed = np.array([3.3,3.5,4,4.4,5.7,6])\r\n",
        "yRed = np.array([7,1.5,6.3,1.9,2.9,7.1])\r\n",
        "\r\n",
        "X = np.array([[0.3,1],[0.5,4.5],[1,2.3],[1.4,1.9],[1.7,8.9],[2,4.1],[3.3,7],[3.5,1.5],[4,6.3],[4.4,1.9],[5.7,2.9],[6,7.1]])\r\n",
        "y = np.array([0,0,0,0,0,0,1,1,1,1,1,1]) # 0: blue class, 1: red class\r\n",
        "\r\n",
        "plt.plot(xBlue, yBlue, 'ro', color='blue')\r\n",
        "plt.plot(xRed, yRed, 'ro', color='red')\r\n",
        "plt.plot(2.5,4.5,'ro',color='green')\r\n",
        "\r\n",
        "#\r\n",
        "#\tImportant parameters for SVC: gamma and C\r\n",
        "#\t\tgamma -> defines how far the influence of a single training example reaches\r\n",
        "#\t\t\t\t\tLow value: influence reaches far      High value: influence reaches close\r\n",
        "#\r\n",
        "#\t\tC -> trades off hyperplane surface simplicity + training examples missclassifications\r\n",
        "#\t\t\t\t\tLow value: simple/smooth hyperplane surface \r\n",
        "#\t\t\t\t\tHigh value: all training examples classified correctly but complex surface \r\n",
        "classifier = svm.SVC()\r\n",
        "classifier.fit(X,y)\r\n",
        "\r\n",
        "print( classifier.predict([[4.5,4.5]]))\r\n",
        "\r\n",
        "plot_decision_regions(X,y, clf=classifier, legend=2)\r\n",
        "\r\n",
        "plt.axis([-0.5,10,-0.5,10])\r\n",
        "\r\n",
        "plt.show()"
      ],
      "execution_count": 4,
      "outputs": [
        {
          "output_type": "stream",
          "text": [
            "[1]\n"
          ],
          "name": "stdout"
        },
        {
          "output_type": "stream",
          "text": [
            "/usr/local/lib/python3.7/dist-packages/mlxtend/plotting/decision_regions.py:244: MatplotlibDeprecationWarning: Passing unsupported keyword arguments to axis() will raise a TypeError in 3.3.\n",
            "  ax.axis(xmin=xx.min(), xmax=xx.max(), y_min=yy.min(), y_max=yy.max())\n"
          ],
          "name": "stderr"
        },
        {
          "output_type": "display_data",
          "data": {
            "image/png": "[encoded data removed]",
            "text/plain": [
              "<Figure size 432x288 with 1 Axes>"
            ]
          },
          "metadata": {
            "tags": [],
            "needs_background": "light"
          }
        }
      ]
    }
  ]
}