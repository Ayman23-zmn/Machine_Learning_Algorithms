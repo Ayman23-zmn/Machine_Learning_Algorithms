{
  "nbformat": 4,
  "nbformat_minor": 0,
  "metadata": {
    "colab": {
      "name": "Untitled1.ipynb",
      "provenance": [],
      "collapsed_sections": []
    },
    "kernelspec": {
      "name": "python3",
      "display_name": "Python 3"
    }
  },
  "cells": [
    {
      "cell_type": "code",
      "metadata": {
        "colab": {
          "base_uri": "https://localhost:8080/",
          "height": 320
        },
        "id": "tA4ln0hW5tju",
        "outputId": "a93dae59-66d8-44a4-f1e9-71ce9394fbc0"
      },
      "source": [
        "import numpy as np\r\n",
        "from matplotlib import pyplot as plt\r\n",
        "from sklearn.linear_model import LogisticRegression\r\n",
        "\r\n",
        "# p i = 1 / 1 + exp[ - ( b0 + b1 * x )]\r\n",
        "\r\n",
        "x1 = np.array([0,0.6,1.1,1.5,1.8,2.5,3,3.1,3.9,4,4.9,5,5.1])\r\n",
        "y1 = np.array([0,0,0,0,0,0,0,0,0,0,0,0,0])\r\n",
        "\r\n",
        "x2 = np.array([3,3.8,4.4,5.2,5.5,6.5,6,6.1,6.9,7,7.9,8,8.1])\r\n",
        "y2 = np.array([1,1,1,1,1,1,1,1,1,1,1,1,1])\r\n",
        "\r\n",
        "X = np.array([[0],[0.6],[1.1],[1.5],[1.8],[2.5],[3],[3.1],[3.9],[4],[4.9],[5],[5.1],[3],[3.8],[4.4],[5.2],[5.5],[6.5],[6],[6.1],[6.9],[7],[7.9],[8],[8.1]])\r\n",
        "y = np.array([0,0,0,0,0,0,0,0,0,0,0,0,0,1,1,1,1,1,1,1,1,1,1,1,1,1])\r\n",
        "\r\n",
        "plt.plot(x1,y1,'ro',color='blue')\r\n",
        "plt.plot(x2,y2,'ro',color='red')\r\n",
        "\r\n",
        "model = LogisticRegression()\r\n",
        "model.fit(X,y)\r\n",
        "\r\n",
        "print(\"b0 is:\", model.intercept_)\r\n",
        "print(\"b1 is:\", model.coef_)\r\n",
        "\r\n",
        "def logistic(classifier, x):\r\n",
        "\treturn 1/(1+np.exp(-(model.intercept_ + model.coef_ * x)))\r\n",
        "\t\r\n",
        "for i in range(1,120):\r\n",
        "\tplt.plot(i/10.0-2,logistic(model,i/10.0),'ro',color='green')\r\n",
        "\r\n",
        "plt.axis([-2,10,-0.5,2])\r\n",
        "plt.show()\r\n",
        "\r\n",
        "pred = model.predict_proba([[1]])\r\n",
        "print(\"Prediction: \", pred)\r\n"
      ],
      "execution_count": 2,
      "outputs": [
        {
          "output_type": "stream",
          "text": [
            "b0 is: [-4.50163542]\n",
            "b1 is: [[1.00401882]]\n"
          ],
          "name": "stdout"
        },
        {
          "output_type": "display_data",
          "data": {
            "image/png": "[encoded data removed]",
            "text/plain": [
              "<Figure size 432x288 with 1 Axes>"
            ]
          },
          "metadata": {
            "tags": [],
            "needs_background": "light"
          }
        },
        {
          "output_type": "stream",
          "text": [
            "Prediction:  [[0.97061988 0.02938012]]\n"
          ],
          "name": "stdout"
        }
      ]
    }
  ]
}